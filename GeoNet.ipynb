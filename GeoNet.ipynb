{
 "cells": [
  {
   "cell_type": "code",
   "execution_count": 193,
   "metadata": {},
   "outputs": [],
   "source": [
    "import torch\n",
    "import os\n",
    "import re\n",
    "import math\n",
    "\n",
    "import numpy as np\n",
    "import matplotlib.pyplot as plt\n",
    "\n",
    "import torch\n",
    "import torch.nn as nn\n",
    "import torch.nn.functional as F\n",
    "import torch.optim as optim\n",
    "from skimage import io, transform\n",
    "from torch.utils.data import Dataset, DataLoader"
   ]
  },
  {
   "cell_type": "code",
   "execution_count": 194,
   "metadata": {},
   "outputs": [],
   "source": [
    "class aerialBuildingDataset(Dataset):\n",
    "    def __init__(self, root_dir, transform=None):\n",
    "        \"\"\"\n",
    "        Args:\n",
    "            root_dir (string): Directory with all the images and text. Of the form ./data/genTrain etc...\n",
    "            transform (callable, optional): Optional transform to be applied\n",
    "                on a sample.\n",
    "        \"\"\"\n",
    "        self.maps = os.listdir(root_dir) #These are all the maps in the root. austin10 chicago55 etc...\n",
    "        self.root_dir = root_dir \n",
    "        self.transform = transform \n",
    "\n",
    "        #Retrieve all the image locations with their coordinates\n",
    "        self.imageList = [] #List of images e.g ./data/genTrain/austin10/860.png\n",
    "        self.cornerList = [] #Get all the image paths in our dataset\n",
    "        for map in self.maps:\n",
    "            images = [x for x in os.listdir(os.path.join(root_dir,map)) if re.search(\"png\",x)]\n",
    "            coordinates = [x for x in os.listdir(os.path.join(root_dir,map)) if re.search(\"txt\",x)]\n",
    "            for image in images:\n",
    "                number = image.split('.png')[0]\n",
    "                corner = [x for x in coordinates if re.search('^'+number+'.txt',x)][0]\n",
    "                if len(corner) == 0:\n",
    "                    break\n",
    "                self.cornerList.append(os.path.join(root_dir, map,corner))\n",
    "                self.imageList.append(os.path.join(root_dir, map,image))\n",
    "        if (len(self.imageList) != len(self.cornerList)):\n",
    "            raise ValueError('Oops, mismatch in images and coordinate files')\n",
    "        \n",
    "    def __len__(self):\n",
    "        return len(self.imageList)\n",
    "\n",
    "    def __getitem__(self, idx):\n",
    "        img_file = os.path.join(self.imageList[idx])\n",
    "        image = io.imread(img_file)\n",
    "        image = image[:,:,0:3]\n",
    "        corner_file = self.cornerList[idx]\n",
    "        with open(corner_file) as f:\n",
    "            content = f.readlines()\n",
    "            content = np.array([x.strip().split(' ') for x in content])\n",
    "        sample = {'image': image, 'corners': content}\n",
    "\n",
    "        if self.transform:\n",
    "            sample = self.transform(sample)\n",
    "\n",
    "        return sample"
   ]
  },
  {
   "cell_type": "code",
   "execution_count": 195,
   "metadata": {},
   "outputs": [],
   "source": [
    "#helper function to show building and its corners.\n",
    "def show_landmarks(image, corners):\n",
    "    plt.figure(figsize=(4,4))\n",
    "    \"\"\"Show image with landmarks\"\"\"\n",
    "    plt.imshow(image)\n",
    "    print(corners)\n",
    "    plt.scatter(corners[:, 0], corners[:, 1], s=10, marker='.', c='r')\n",
    "    plt.show()"
   ]
  },
  {
   "cell_type": "code",
   "execution_count": 196,
   "metadata": {},
   "outputs": [],
   "source": [
    "#Load the dataset\n",
    "building_dataset = aerialBuildingDataset(root_dir='./data/genTrain')"
   ]
  },
  {
   "cell_type": "code",
   "execution_count": null,
   "metadata": {},
   "outputs": [],
   "source": [
    "sample = building_dataset[1042]\n",
    "print(\"image shape\", sample['image'].shape, \"corner shape\", sample['corners'].shape)\n",
    "show_landmarks(**sample)"
   ]
  },
  {
   "cell_type": "markdown",
   "metadata": {},
   "source": [
    "For each input image, VGG-16 is used without tail layers as the backbone to extract a set of \"skip features\" 1/8 the size of input images. Then this goes through conv layers to obtain a heat-map mask of boundaries. This is then convolved to output a mask of candidate keypoints (V). Both B and V have size 1/8 the original image"
   ]
  },
  {
   "cell_type": "code",
   "execution_count": 163,
   "metadata": {},
   "outputs": [],
   "source": [
    "class SamePad2d(nn.Module):\n",
    "    \"\"\"Mimics tensorflow's 'SAME' padding.\n",
    "    \"\"\"\n",
    "\n",
    "    def __init__(self, kernel_size, stride):\n",
    "        super(SamePad2d, self).__init__()\n",
    "        self.kernel_size = torch.nn.modules.utils._pair(kernel_size)\n",
    "        self.stride = torch.nn.modules.utils._pair(stride)\n",
    "\n",
    "    def forward(self, input):\n",
    "#         print(input.shape)\n",
    "        in_width = input.size()[2]\n",
    "        in_height = input.size()[3]\n",
    "#         print(\"in_width\", in_width, \"and in_height\", in_height)\n",
    "        out_width = math.ceil(float(in_width) / float(self.stride[0]))\n",
    "        out_height = math.ceil(float(in_height) / float(self.stride[1]))\n",
    "        pad_along_width = ((out_width - 1) * self.stride[0] +\n",
    "                           self.kernel_size[0] - in_width)\n",
    "        pad_along_height = ((out_height - 1) * self.stride[1] +\n",
    "                            self.kernel_size[1] - in_height)\n",
    "        pad_left = math.floor(pad_along_width / 2)\n",
    "        pad_top = math.floor(pad_along_height / 2)\n",
    "        pad_right = pad_along_width - pad_left\n",
    "        pad_bottom = pad_along_height - pad_top\n",
    "        return F.pad(input, (pad_left, pad_right, pad_top, pad_bottom), 'constant', 0)\n",
    "\n",
    "    def __repr__(self):\n",
    "        return self.__class__.__name__"
   ]
  },
  {
   "cell_type": "code",
   "execution_count": 217,
   "metadata": {},
   "outputs": [],
   "source": [
    "#Network consisting of the skipfeature convolutions for generating 1/8 mask of candidate keypoints.\n",
    "\n",
    "class Mask(nn.Module):\n",
    "    def __init__(self, depth, pool_size, image_shape):\n",
    "        super(Mask, self).__init__()\n",
    "        self.depth = depth\n",
    "        self.pool_size = pool_size\n",
    "        self.image_shape = image_shape\n",
    "        self.num_classes = 1\n",
    "        self.padding = SamePad2d(kernel_size=3, stride=1)\n",
    "        self.conv1 = nn.Conv2d(self.depth, 256, kernel_size=3, stride=1)\n",
    "        self.bn1 = nn.BatchNorm2d(256, eps=0.001)\n",
    "        self.conv2 = nn.Conv2d(256, 256, kernel_size=3, stride=1)\n",
    "        self.bn2 = nn.BatchNorm2d(256, eps=0.001)\n",
    "        self.conv3 = nn.Conv2d(256, 256, kernel_size=3, stride=1)\n",
    "        self.bn3 = nn.BatchNorm2d(256, eps=0.001)\n",
    "        self.conv4 = nn.Conv2d(256, 256, kernel_size=3, stride=1)\n",
    "        self.bn4 = nn.BatchNorm2d(256, eps=0.001)\n",
    "#         self.deconv = nn.ConvTranspose2d(256, 256, kernel_size=2, stride=2)\n",
    "        self.conv5 = nn.Conv2d(256, self.num_classes, kernel_size=1, stride=1)\n",
    "        self.sigmoid = nn.Sigmoid()\n",
    "        self.relu = nn.ReLU(inplace=True)\n",
    "\n",
    "    def forward(self, x):\n",
    "#  We input individual buildings\n",
    "#         x = pyramid_roi_align([rois] + x, self.pool_size, self.image_shape)\n",
    "        print(\"Input to mask x is \", x.shape)\n",
    "        x = self.conv1(self.padding(x))\n",
    "        x = self.bn1(x)\n",
    "        x = self.relu(x)\n",
    "        x = self.conv2(self.padding(x))\n",
    "        x = self.bn2(x)\n",
    "        x = self.relu(x)\n",
    "        x = self.conv3(self.padding(x))\n",
    "        x = self.bn3(x)\n",
    "        x = self.relu(x)\n",
    "        x = self.conv4(self.padding(x))\n",
    "        x = self.bn4(x)\n",
    "        x = self.relu(x)\n",
    "#         x = self.deconv(x)\n",
    "#         x = self.relu(x)\n",
    "        x = self.conv5(x)\n",
    "        x = self.sigmoid(x)\n",
    "        print(\"Shape of x after foward\", x.shape)\n",
    "\n",
    "        return x"
   ]
  },
  {
   "cell_type": "code",
   "execution_count": 218,
   "metadata": {},
   "outputs": [],
   "source": [
    "# #VGG net simplified.\n",
    "\n",
    "# class VGG1(nn.Module):\n",
    "#     def __init__(self, depth, pool_size, image_shape)"
   ]
  },
  {
   "cell_type": "code",
   "execution_count": 219,
   "metadata": {},
   "outputs": [],
   "source": [
    "class GeoNet(nn.Module):\n",
    "    def __init__(self, model_dir):\n",
    "        \"\"\"\n",
    "        config: A Sub-class of the Config class\n",
    "        model_dir: Directory to save training logs and trained weights\n",
    "        \"\"\"\n",
    "        super(GeoNet, self).__init__()\n",
    "        self.MASK_POOL_SIZE = 288\n",
    "        self.IMAGE_SHAPE = 288\n",
    "        self.model_dir = model_dir\n",
    "        self.build()\n",
    "        self.initialize_weights()\n",
    "    \n",
    "    def build(self):\n",
    "        \"\"\"Build GeoNet architecture.\n",
    "        \"\"\"\n",
    "#         Todo: Replace simple convolution of input to skip feature input. Using mask of 3 for 3 RGB\n",
    "#         self.backbone = Backbone(3)\n",
    "        self.mask = Mask(3, self.MASK_POOL_SIZE, self.IMAGE_SHAPE)\n",
    "\n",
    "\n",
    "    def initialize_weights(self):\n",
    "        \"\"\"Initialize model weights.\n",
    "        \"\"\"\n",
    "        for m in self.modules():\n",
    "            if isinstance(m, nn.Conv2d):\n",
    "                nn.init.xavier_uniform_(m.weight)\n",
    "                if m.bias is not None:\n",
    "                    m.bias.data.zero_()\n",
    "            elif isinstance(m, nn.BatchNorm2d):\n",
    "                m.weight.data.fill_(1)\n",
    "                m.bias.data.zero_()\n",
    "            elif isinstance(m, nn.Linear):\n",
    "                m.weight.data.normal_(0, 0.01)\n",
    "                m.bias.data.zero_()\n",
    "                \n",
    "    def predict(self, input, mode):\n",
    "        molded_images = input\n",
    "\n",
    "        if mode == 'inference':\n",
    "            self.eval()\n",
    "        elif mode == 'training':\n",
    "            self.train()\n",
    "            # Set batchnorm always in eval mode during training\n",
    "            def set_bn_eval(m):\n",
    "                classname = m.__class__.__name__\n",
    "                if classname.find('BatchNorm') != -1:\n",
    "                    m.eval()\n",
    "            self.apply(set_bn_eval)\n",
    "            \n",
    "        #FPN and BBox extraction here.\n",
    "        mrcnn_feature_maps = molded_images\n",
    "\n",
    "        if mode == 'inference':\n",
    "            # Network Heads\n",
    "            # Create masks for detections\n",
    "            mrcnn_mask = self.mask(mrcnn_feature_maps)\n",
    "\n",
    "            # Add back batch dimension\n",
    "#             mrcnn_mask = mrcnn_mask.unsqueeze(0)\n",
    "            return mrcnn_mask\n",
    "\n",
    "        return results"
   ]
  },
  {
   "cell_type": "code",
   "execution_count": 220,
   "metadata": {},
   "outputs": [
    {
     "data": {
      "text/plain": [
       "GeoNet(\n",
       "  (mask): Mask(\n",
       "    (padding): SamePad2d\n",
       "    (conv1): Conv2d(3, 256, kernel_size=(3, 3), stride=(1, 1))\n",
       "    (bn1): BatchNorm2d(256, eps=0.001, momentum=0.1, affine=True, track_running_stats=True)\n",
       "    (conv2): Conv2d(256, 256, kernel_size=(3, 3), stride=(1, 1))\n",
       "    (bn2): BatchNorm2d(256, eps=0.001, momentum=0.1, affine=True, track_running_stats=True)\n",
       "    (conv3): Conv2d(256, 256, kernel_size=(3, 3), stride=(1, 1))\n",
       "    (bn3): BatchNorm2d(256, eps=0.001, momentum=0.1, affine=True, track_running_stats=True)\n",
       "    (conv4): Conv2d(256, 256, kernel_size=(3, 3), stride=(1, 1))\n",
       "    (bn4): BatchNorm2d(256, eps=0.001, momentum=0.1, affine=True, track_running_stats=True)\n",
       "    (conv5): Conv2d(256, 1, kernel_size=(1, 1), stride=(1, 1))\n",
       "    (sigmoid): Sigmoid()\n",
       "    (relu): ReLU(inplace)\n",
       "  )\n",
       ")"
      ]
     },
     "execution_count": 220,
     "metadata": {},
     "output_type": "execute_result"
    }
   ],
   "source": [
    "net = GeoNet('./placeholderDir')\n",
    "net.eval()"
   ]
  },
  {
   "cell_type": "code",
   "execution_count": 221,
   "metadata": {},
   "outputs": [
    {
     "name": "stdout",
     "output_type": "stream",
     "text": [
      "Our inputBatch is of shape torch.Size([1, 3, 288, 288])\n",
      "Input to mask x is  torch.Size([1, 3, 288, 288])\n",
      "torch.Size([1, 3, 288, 288])\n",
      "in_width 288 and in_height 288\n",
      "torch.Size([1, 256, 288, 288])\n",
      "in_width 288 and in_height 288\n",
      "torch.Size([1, 256, 288, 288])\n",
      "in_width 288 and in_height 288\n",
      "torch.Size([1, 256, 288, 288])\n",
      "in_width 288 and in_height 288\n",
      "Shape of x after foward torch.Size([1, 1, 288, 288])\n"
     ]
    }
   ],
   "source": [
    "inputBatch = torch.Tensor(building_dataset[1032]['image'])\n",
    "inputBatch = torch.unsqueeze(inputBatch, 0)\n",
    "inputBatch = inputBatch.permute(0,3,1,2)\n",
    "print(\"Our inputBatch is of shape\", inputBatch.shape)\n",
    "CornerMask = net.predict(inputBatch,\"inference\")"
   ]
  },
  {
   "cell_type": "code",
   "execution_count": 236,
   "metadata": {},
   "outputs": [
    {
     "data": {
      "image/png": "[encoded data removed]",
      "text/plain": [
       "<Figure size 432x288 with 1 Axes>"
      ]
     },
     "metadata": {
      "needs_background": "light"
     },
     "output_type": "display_data"
    }
   ],
   "source": [
    "#Take first batch dimension.\n",
    "show = PointMask[0].detach().numpy()\n",
    "#Squeeze the class dim.\n",
    "show = show.squeeze(0)\n",
    "\n",
    "# Z is your data set\n",
    "N = 288\n",
    "\n",
    "# G is a NxNx3 matrix\n",
    "G = np.zeros((N,N,3))\n",
    "\n",
    "# Where we set the RGB for each pixel\n",
    "G[show>0.9] = [1,1,1]\n",
    "G[show<0.9] = [0,0,0]\n",
    "\n",
    "plt.imshow(G,interpolation='nearest')\n",
    "plt.show()"
   ]
  },
  {
   "cell_type": "code",
   "execution_count": null,
   "metadata": {},
   "outputs": [],
   "source": []
  }
 ],
 "metadata": {
  "kernelspec": {
   "display_name": "Python 3",
   "language": "python",
   "name": "python3"
  },
  "language_info": {
   "codemirror_mode": {
    "name": "ipython",
    "version": 3
   },
   "file_extension": ".py",
   "mimetype": "text/x-python",
   "name": "python",
   "nbconvert_exporter": "python",
   "pygments_lexer": "ipython3",
   "version": "3.6.8"
  }
 },
 "nbformat": 4,
 "nbformat_minor": 2
}
