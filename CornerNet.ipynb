{
 "cells": [
  {
   "cell_type": "code",
   "execution_count": 119,
   "metadata": {},
   "outputs": [],
   "source": [
    "import torch\n",
    "import os\n",
    "import re\n",
    "import numpy as np\n",
    "import matplotlib.pyplot as plt\n",
    "from skimage import io, transform\n",
    "from torch.utils.data import Dataset, DataLoader"
   ]
  },
  {
   "cell_type": "code",
   "execution_count": 120,
   "metadata": {},
   "outputs": [],
   "source": [
    "class aerialBuildingDataset(Dataset):\n",
    "    def __init__(self, root_dir, transform=None):\n",
    "        \"\"\"\n",
    "        Args:\n",
    "            root_dir (string): Directory with all the images and text. Of the form ./data/genTrain etc...\n",
    "            transform (callable, optional): Optional transform to be applied\n",
    "                on a sample.\n",
    "        \"\"\"\n",
    "        self.maps = os.listdir(root_dir) #These are all the maps in the root. austin10 chicago55 etc...\n",
    "        self.root_dir = root_dir \n",
    "        self.transform = transform \n",
    "\n",
    "        #Retrieve all the image locations with their coordinates\n",
    "        self.imageList = [] #List of images e.g ./data/genTrain/austin10/860.png\n",
    "        self.cornerList = [] #Get all the image paths in our dataset\n",
    "        for map in self.maps:\n",
    "            images = [x for x in os.listdir(os.path.join(root_dir,map)) if re.search(\"png\",x)]\n",
    "            coordinates = [x for x in os.listdir(os.path.join(root_dir,map)) if re.search(\"txt\",x)]\n",
    "            for image in images:\n",
    "                number = image.split('.png')[0]\n",
    "                corner = [x for x in coordinates if re.search('^'+number+'.txt',x)][0]\n",
    "                if len(corner) == 0:\n",
    "                    break\n",
    "                self.cornerList.append(os.path.join(root_dir, map,corner))\n",
    "                self.imageList.append(os.path.join(root_dir, map,image))\n",
    "        if (len(self.imageList) != len(self.cornerList)):\n",
    "            raise ValueError('Oops, mismatch in images and coordinate files')\n",
    "        \n",
    "    def __len__(self):\n",
    "        return len(self.imageList)\n",
    "\n",
    "    def __getitem__(self, idx):\n",
    "        img_file = os.path.join(self.imageList[idx])\n",
    "        image = io.imread(img_file)\n",
    "        corner_file = self.cornerList[idx]\n",
    "        with open(corner_file) as f:\n",
    "            content = f.readlines()\n",
    "            content = np.array([x.strip().split(' ') for x in content])\n",
    "        sample = {'image': image, 'corners': content}\n",
    "\n",
    "        if self.transform:\n",
    "            sample = self.transform(sample)\n",
    "\n",
    "        return sample"
   ]
  },
  {
   "cell_type": "code",
   "execution_count": 141,
   "metadata": {},
   "outputs": [],
   "source": [
    "#helper function to show building and its corners.\n",
    "def show_landmarks(image, corners):\n",
    "    \n",
    "#     plt.figure(figsize=(4,4))\n",
    "#     plt.imshow(image[min_y-margin:max_y+margin,min_x-margin:max_x+margin], origin='lower')\n",
    "#     plt.scatter(buildingArray[:,0], buildingArray[:,1], c='r', s=10)\n",
    "\n",
    "    plt.figure(figsize=(4,4))\n",
    "    \"\"\"Show image with landmarks\"\"\"\n",
    "    plt.imshow(image)\n",
    "    plt.scatter(corners[:, 0], corners[:, 1], s=10, marker='.', c='r')\n",
    "    plt.show()"
   ]
  },
  {
   "cell_type": "code",
   "execution_count": 142,
   "metadata": {},
   "outputs": [],
   "source": [
    "#Load the dataset\n",
    "building_dataset = aerialBuildingDataset(root_dir='./data/genTrain')"
   ]
  },
  {
   "cell_type": "code",
   "execution_count": 159,
   "metadata": {},
   "outputs": [
    {
     "name": "stdout",
     "output_type": "stream",
     "text": [
      "(288, 288, 4) (4, 2)\n"
     ]
    },
    {
     "data": {
      "image/png": "[encoded data removed]",
      "text/plain": [
       "<Figure size 288x288 with 1 Axes>"
      ]
     },
     "metadata": {
      "needs_background": "light"
     },
     "output_type": "display_data"
    }
   ],
   "source": [
    "sample = building_dataset[330]\n",
    "print(sample['image'].shape, sample['corners'].shape)\n",
    "show_landmarks(**sample)"
   ]
  },
  {
   "cell_type": "code",
   "execution_count": null,
   "metadata": {},
   "outputs": [],
   "source": []
  },
  {
   "cell_type": "code",
   "execution_count": null,
   "metadata": {},
   "outputs": [],
   "source": []
  }
 ],
 "metadata": {
  "kernelspec": {
   "display_name": "Python 3",
   "language": "python",
   "name": "python3"
  },
  "language_info": {
   "codemirror_mode": {
    "name": "ipython",
    "version": 3
   },
   "file_extension": ".py",
   "mimetype": "text/x-python",
   "name": "python",
   "nbconvert_exporter": "python",
   "pygments_lexer": "ipython3",
   "version": "3.6.8"
  }
 },
 "nbformat": 4,
 "nbformat_minor": 2
}
